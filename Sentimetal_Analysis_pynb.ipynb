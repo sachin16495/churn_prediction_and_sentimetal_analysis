{
  "nbformat": 4,
  "nbformat_minor": 0,
  "metadata": {
    "colab": {
      "name": "Sentimetal_Analysis.pynb",
      "provenance": [],
      "collapsed_sections": []
    },
    "kernelspec": {
      "name": "python3",
      "display_name": "Python 3"
    }
  },
  "cells": [
    {
      "cell_type": "code",
      "metadata": {
        "id": "ErFsciabY8zb",
        "colab_type": "code",
        "colab": {}
      },
      "source": [
        "import pandas as pd"
      ],
      "execution_count": 0,
      "outputs": []
    },
    {
      "cell_type": "code",
      "metadata": {
        "id": "q7xmi3694mTS",
        "colab_type": "code",
        "colab": {}
      },
      "source": [
        "import tensorflow as tf\n",
        "import sys\n",
        "from keras.utils import np_utils\n",
        "import numpy as np\n",
        "from sklearn import model_selection\n",
        "from scipy.spatial.distance import cdist\n",
        "from tensorflow.python.keras.models import Sequential,load_model\n",
        "from tensorflow.python.keras.optimizers import Adam\n",
        "from tensorflow.python.keras.preprocessing.text import Tokenizer\n",
        "from tensorflow.python.keras.preprocessing.sequence import pad_sequences\n",
        "from tensorflow.python.keras.callbacks import EarlyStopping\n",
        "from keras.preprocessing.text import Tokenizer\n",
        "from tensorflow.python.keras.layers import LSTM,Dense,GRU,Embedding,SpatialDropout1D\n",
        "import pandas as pd"
      ],
      "execution_count": 0,
      "outputs": []
    },
    {
      "cell_type": "code",
      "metadata": {
        "id": "0jq7u6YptQE8",
        "colab_type": "code",
        "colab": {}
      },
      "source": [
        "sentiment_df=pd.read_csv('sentiment.tsv',delimiter='\\t',encoding='utf-8',names=[\"Sentiment\", \"Tweets\"])"
      ],
      "execution_count": 0,
      "outputs": []
    },
    {
      "cell_type": "code",
      "metadata": {
        "id": "vdGS-OXVtm5B",
        "colab_type": "code",
        "colab": {
          "base_uri": "https://localhost:8080/",
          "height": 204
        },
        "outputId": "4f5e8c01-3436-4f83-ccb9-582ee0da4d9c"
      },
      "source": [
        "sentiment_df.head()"
      ],
      "execution_count": 180,
      "outputs": [
        {
          "output_type": "execute_result",
          "data": {
            "text/html": [
              "<div>\n",
              "<style scoped>\n",
              "    .dataframe tbody tr th:only-of-type {\n",
              "        vertical-align: middle;\n",
              "    }\n",
              "\n",
              "    .dataframe tbody tr th {\n",
              "        vertical-align: top;\n",
              "    }\n",
              "\n",
              "    .dataframe thead th {\n",
              "        text-align: right;\n",
              "    }\n",
              "</style>\n",
              "<table border=\"1\" class=\"dataframe\">\n",
              "  <thead>\n",
              "    <tr style=\"text-align: right;\">\n",
              "      <th></th>\n",
              "      <th>Sentiment</th>\n",
              "      <th>Tweets</th>\n",
              "    </tr>\n",
              "  </thead>\n",
              "  <tbody>\n",
              "    <tr>\n",
              "      <th>0</th>\n",
              "      <td>neg</td>\n",
              "      <td>@jamielewislewis i cant believe it, it really ...</td>\n",
              "    </tr>\n",
              "    <tr>\n",
              "      <th>1</th>\n",
              "      <td>pos</td>\n",
              "      <td>having a vodka tonic and looking forward to go...</td>\n",
              "    </tr>\n",
              "    <tr>\n",
              "      <th>2</th>\n",
              "      <td>pos</td>\n",
              "      <td>@ddlovatofans1neg1 Could you follow me please....</td>\n",
              "    </tr>\n",
              "    <tr>\n",
              "      <th>3</th>\n",
              "      <td>pos</td>\n",
              "      <td>@jordanknight for once.................. PLEAS...</td>\n",
              "    </tr>\n",
              "    <tr>\n",
              "      <th>4</th>\n",
              "      <td>neg</td>\n",
              "      <td>Had a dream about a walk in fast food resturau...</td>\n",
              "    </tr>\n",
              "  </tbody>\n",
              "</table>\n",
              "</div>"
            ],
            "text/plain": [
              "  Sentiment                                             Tweets\n",
              "0       neg  @jamielewislewis i cant believe it, it really ...\n",
              "1       pos  having a vodka tonic and looking forward to go...\n",
              "2       pos  @ddlovatofans1neg1 Could you follow me please....\n",
              "3       pos  @jordanknight for once.................. PLEAS...\n",
              "4       neg  Had a dream about a walk in fast food resturau..."
            ]
          },
          "metadata": {
            "tags": []
          },
          "execution_count": 180
        }
      ]
    },
    {
      "cell_type": "code",
      "metadata": {
        "id": "p8WfYspy5-s0",
        "colab_type": "code",
        "colab": {}
      },
      "source": [
        "import csv\n",
        "import nltk as nlp\n",
        "from nltk import word_tokenize\n",
        "import string\n",
        "import os\n",
        "import re\n",
        "import io"
      ],
      "execution_count": 0,
      "outputs": []
    },
    {
      "cell_type": "code",
      "metadata": {
        "id": "8rcFUxEU5tgJ",
        "colab_type": "code",
        "colab": {}
      },
      "source": [
        "def clean(text):\n",
        "    #print(type(text))\n",
        "    text = text.lower()\n",
        "    printable = set(string.printable)\n",
        "    text=re.sub('[^A-Za-z0-9]+', ' ', text)\n",
        "    return text"
      ],
      "execution_count": 0,
      "outputs": []
    },
    {
      "cell_type": "code",
      "metadata": {
        "id": "QfLsF5IL8Sy1",
        "colab_type": "code",
        "colab": {
          "base_uri": "https://localhost:8080/",
          "height": 34
        },
        "outputId": "9523d0bc-c9eb-4e2d-a455-f705103dcbad"
      },
      "source": [
        "clean(\"saca\")"
      ],
      "execution_count": 183,
      "outputs": [
        {
          "output_type": "execute_result",
          "data": {
            "text/plain": [
              "'saca'"
            ]
          },
          "metadata": {
            "tags": []
          },
          "execution_count": 183
        }
      ]
    },
    {
      "cell_type": "code",
      "metadata": {
        "id": "6bNlttir3gFX",
        "colab_type": "code",
        "colab": {}
      },
      "source": [
        "sentiment=sentiment_df[\"Sentiment\"]\n",
        "sentiment_text=sentiment_df[\"Tweets\"]=[clean(txt) for txt in sentiment_df[\"Tweets\"]]"
      ],
      "execution_count": 0,
      "outputs": []
    },
    {
      "cell_type": "code",
      "metadata": {
        "id": "CVZZxVat67vY",
        "colab_type": "code",
        "colab": {
          "base_uri": "https://localhost:8080/",
          "height": 204
        },
        "outputId": "4406915a-ab66-4553-e121-1bdb17d43ad3"
      },
      "source": [
        "sentiment_df.head()"
      ],
      "execution_count": 185,
      "outputs": [
        {
          "output_type": "execute_result",
          "data": {
            "text/html": [
              "<div>\n",
              "<style scoped>\n",
              "    .dataframe tbody tr th:only-of-type {\n",
              "        vertical-align: middle;\n",
              "    }\n",
              "\n",
              "    .dataframe tbody tr th {\n",
              "        vertical-align: top;\n",
              "    }\n",
              "\n",
              "    .dataframe thead th {\n",
              "        text-align: right;\n",
              "    }\n",
              "</style>\n",
              "<table border=\"1\" class=\"dataframe\">\n",
              "  <thead>\n",
              "    <tr style=\"text-align: right;\">\n",
              "      <th></th>\n",
              "      <th>Sentiment</th>\n",
              "      <th>Tweets</th>\n",
              "    </tr>\n",
              "  </thead>\n",
              "  <tbody>\n",
              "    <tr>\n",
              "      <th>0</th>\n",
              "      <td>neg</td>\n",
              "      <td>jamielewislewis i cant believe it it really d...</td>\n",
              "    </tr>\n",
              "    <tr>\n",
              "      <th>1</th>\n",
              "      <td>pos</td>\n",
              "      <td>having a vodka tonic and looking forward to go...</td>\n",
              "    </tr>\n",
              "    <tr>\n",
              "      <th>2</th>\n",
              "      <td>pos</td>\n",
              "      <td>ddlovatofans1neg1 could you follow me please ...</td>\n",
              "    </tr>\n",
              "    <tr>\n",
              "      <th>3</th>\n",
              "      <td>pos</td>\n",
              "      <td>jordanknight for once please tell us why u we...</td>\n",
              "    </tr>\n",
              "    <tr>\n",
              "      <th>4</th>\n",
              "      <td>neg</td>\n",
              "      <td>had a dream about a walk in fast food resturau...</td>\n",
              "    </tr>\n",
              "  </tbody>\n",
              "</table>\n",
              "</div>"
            ],
            "text/plain": [
              "  Sentiment                                             Tweets\n",
              "0       neg   jamielewislewis i cant believe it it really d...\n",
              "1       pos  having a vodka tonic and looking forward to go...\n",
              "2       pos   ddlovatofans1neg1 could you follow me please ...\n",
              "3       pos   jordanknight for once please tell us why u we...\n",
              "4       neg  had a dream about a walk in fast food resturau..."
            ]
          },
          "metadata": {
            "tags": []
          },
          "execution_count": 185
        }
      ]
    },
    {
      "cell_type": "code",
      "metadata": {
        "id": "FMIi-mmE5IMW",
        "colab_type": "code",
        "colab": {
          "base_uri": "https://localhost:8080/",
          "height": 51
        },
        "outputId": "6e5070dd-7322-4175-ae2e-a61c6c01e8a9"
      },
      "source": [
        "num_words=100\n",
        "#Tokenize the text\n",
        "tokenize=Tokenizer(num_words=num_words)\n",
        "tokenize.fit_on_texts(sentiment_text)\n",
        "idx=tokenize.word_index\n",
        "x_token=tokenize.texts_to_sequences(sentiment_text)\n",
        "\n",
        "#Find max tokens \n",
        "num_tokens=[len(token) for token in x_token]\n",
        "num_tokens=np.array(num_tokens)\n",
        "max_tokens=np.mean(num_tokens)+2*np.std(num_tokens)\n",
        "max_tokens=int(max_tokens)\n",
        "print(\"Max Tokens\")\n",
        "print(max_tokens)\n",
        "#print(tr_label)\n",
        "\n",
        "#Classes\n",
        "classes={u'neg':0,u'pos':1}\n",
        "classesa=['pos','neg']\n",
        "\n",
        "#One Hot encoding of labels\n",
        "labrl=[classes[leb] for leb in sentiment]\n",
        "senti = np_utils.to_categorical(labrl, 2)\n",
        "\n",
        "#Adding padding to the training data\n",
        "pad='pre'\n",
        "x_tweet_seq=pad_sequences(x_token,maxlen=max_tokens,padding=pad,truncating=pad)\n",
        "\n",
        "#embedding_size=8\n",
        "#emb_dim = 128\n",
        "\n",
        "reuse_word = 100\n"
      ],
      "execution_count": 196,
      "outputs": [
        {
          "output_type": "stream",
          "text": [
            "Max Tokens\n",
            "14\n"
          ],
          "name": "stdout"
        }
      ]
    },
    {
      "cell_type": "code",
      "metadata": {
        "id": "Rp-lILqGOVvj",
        "colab_type": "code",
        "colab": {
          "base_uri": "https://localhost:8080/",
          "height": 51
        },
        "outputId": "03b3818e-6214-4ec8-949f-253a0ec1f3b0"
      },
      "source": [
        "x_tweet_seq[0]"
      ],
      "execution_count": 187,
      "outputs": [
        {
          "output_type": "execute_result",
          "data": {
            "text/plain": [
              "array([ 1,  7,  7, 56, 88,  1, 96,  7,  7, 44, 23, 38, 77,  8],\n",
              "      dtype=int32)"
            ]
          },
          "metadata": {
            "tags": []
          },
          "execution_count": 187
        }
      ]
    },
    {
      "cell_type": "code",
      "metadata": {
        "colab_type": "code",
        "id": "5OKO8DJ3vQfm",
        "colab": {}
      },
      "source": [
        "X=x_tweet_seq\n",
        "Y=senti"
      ],
      "execution_count": 0,
      "outputs": []
    },
    {
      "cell_type": "code",
      "metadata": {
        "id": "8FpUegIOOIJH",
        "colab_type": "code",
        "colab": {
          "base_uri": "https://localhost:8080/",
          "height": 34
        },
        "outputId": "7e1fa261-6e82-4f30-becd-1eb0629b7622"
      },
      "source": [
        "len(Y)"
      ],
      "execution_count": 189,
      "outputs": [
        {
          "output_type": "execute_result",
          "data": {
            "text/plain": [
              "2001"
            ]
          },
          "metadata": {
            "tags": []
          },
          "execution_count": 189
        }
      ]
    },
    {
      "cell_type": "code",
      "metadata": {
        "id": "mCVSg6jdU_GC",
        "colab_type": "code",
        "colab": {
          "base_uri": "https://localhost:8080/",
          "height": 34
        },
        "outputId": "c549c646-1e5a-41eb-e8d0-fe7025f4c455"
      },
      "source": [
        "len(lr_probs[:, 1])"
      ],
      "execution_count": 190,
      "outputs": [
        {
          "output_type": "execute_result",
          "data": {
            "text/plain": [
              "2001"
            ]
          },
          "metadata": {
            "tags": []
          },
          "execution_count": 190
        }
      ]
    },
    {
      "cell_type": "code",
      "metadata": {
        "id": "51hSd_5LYoR2",
        "colab_type": "code",
        "colab": {}
      },
      "source": [
        "from numpy import interp"
      ],
      "execution_count": 0,
      "outputs": []
    },
    {
      "cell_type": "code",
      "metadata": {
        "id": "3SSxYLrkY0f0",
        "colab_type": "code",
        "colab": {}
      },
      "source": [
        "from sklearn.metrics import roc_curve\n",
        "from sklearn.metrics import auc"
      ],
      "execution_count": 0,
      "outputs": []
    },
    {
      "cell_type": "code",
      "metadata": {
        "id": "wF231LY0Tje-",
        "colab_type": "code",
        "colab": {}
      },
      "source": [
        "tprs=[]\n",
        "aucs=[]\n",
        "i=1"
      ],
      "execution_count": 0,
      "outputs": []
    },
    {
      "cell_type": "code",
      "metadata": {
        "id": "p_a7NeczejP4",
        "colab_type": "code",
        "colab": {}
      },
      "source": [
        "import matplotlib.pyplot as plt"
      ],
      "execution_count": 0,
      "outputs": []
    },
    {
      "cell_type": "code",
      "metadata": {
        "id": "PWoP-hVmDnN1",
        "colab_type": "code",
        "colab": {
          "base_uri": "https://localhost:8080/",
          "height": 187
        },
        "outputId": "5117f11f-d97c-488c-9157-57d49ab40ce4"
      },
      "source": [
        "\n",
        "mean_fpr = np.linspace(0,1,100)\n",
        "n_split=10\n",
        "cvscores = []\n",
        "for train, test in KFold(n_split).split(X,Y):\n",
        "  model = Sequential()\n",
        "  model.add(Embedding(reuse_word, 64, input_length=max_tokens))\n",
        "  model.add(LSTM(64, dropout=0.2))\n",
        "  model.add(Dense(2, activation='softmax'))\n",
        "  model.compile(optimizer='adam', loss='categorical_crossentropy', metrics=['accuracy'])\n",
        "  model.fit(X[train], Y[train], epochs=40,batch_size=10,verbose=0)\n",
        "  scores = model.evaluate(X[test], Y[test])\n",
        "  predict=model.predict_proba(X[test])\n",
        "  fpr, tpr, t = roc_curve(Y[test].argmax(axis=1), np.round((predict[:, 1])))\n",
        "  tprs.append(interp(mean_fpr, fpr, tpr))\n",
        "  roc_auc = auc(fpr, tpr)\n",
        "  aucs.append(roc_auc)\n",
        "  i= i+1\n",
        "\n"
      ],
      "execution_count": 197,
      "outputs": [
        {
          "output_type": "stream",
          "text": [
            "201/201 [==============================] - 2s 9ms/sample - loss: 1.7355 - acc: 0.5871\n",
            "200/200 [==============================] - 2s 9ms/sample - loss: 1.4226 - acc: 0.5700\n",
            "200/200 [==============================] - 2s 9ms/sample - loss: 1.7125 - acc: 0.5450\n",
            "200/200 [==============================] - 2s 10ms/sample - loss: 1.2459 - acc: 0.5950\n",
            "200/200 [==============================] - 2s 10ms/sample - loss: 1.4963 - acc: 0.5850\n",
            "200/200 [==============================] - 2s 10ms/sample - loss: 1.2777 - acc: 0.6200\n",
            "200/200 [==============================] - 2s 10ms/sample - loss: 1.3396 - acc: 0.6350\n",
            "200/200 [==============================] - 2s 10ms/sample - loss: 1.6880 - acc: 0.5550\n",
            "200/200 [==============================] - 2s 10ms/sample - loss: 1.3368 - acc: 0.6250\n",
            "200/200 [==============================] - 2s 11ms/sample - loss: 1.0531 - acc: 0.6200\n"
          ],
          "name": "stdout"
        }
      ]
    },
    {
      "cell_type": "code",
      "metadata": {
        "id": "FIV8UpJETLKk",
        "colab_type": "code",
        "colab": {}
      },
      "source": [
        "len(Y[test].argmax(axis=1))"
      ],
      "execution_count": 0,
      "outputs": []
    },
    {
      "cell_type": "code",
      "metadata": {
        "id": "1dFMy8ALbm7x",
        "colab_type": "code",
        "colab": {
          "base_uri": "https://localhost:8080/",
          "height": 312
        },
        "outputId": "e9c43853-b1a7-4a09-8bd1-2cce0dbde153"
      },
      "source": [
        "plt.plot([0,1],[0,1],linestyle = '--',lw = 2,color = 'black')\n",
        "mean_tpr = np.mean(tprs, axis=0)\n",
        "mean_auc = auc(mean_fpr, mean_tpr)\n",
        "plt.plot(mean_fpr, mean_tpr, color='blue',\n",
        "         label=r'Mean-ROC (AUC = %0.2f )' % (n_auc),lw=2, alpha=1)\n",
        "\n",
        "plt.xlabel('FPR')\n",
        "plt.ylabel('TPR')\n",
        "plt.title('ROC')\n",
        "plt.legend(loc=\"lower right\")\n",
        "\n",
        "plt.show()\n",
        "print(scores)"
      ],
      "execution_count": 215,
      "outputs": [
        {
          "output_type": "display_data",
          "data": {
            "image/png": "[encoded data removed]",
            "text/plain": [
              "<Figure size 432x288 with 1 Axes>"
            ]
          },
          "metadata": {
            "tags": []
          }
        },
        {
          "output_type": "stream",
          "text": [
            "[1.0530639600753784, 0.62]\n"
          ],
          "name": "stdout"
        }
      ]
    },
    {
      "cell_type": "code",
      "metadata": {
        "id": "q5uLIMJeD1Ek",
        "colab_type": "code",
        "colab": {}
      },
      "source": [
        "x_train_pad[1]"
      ],
      "execution_count": 0,
      "outputs": []
    },
    {
      "cell_type": "code",
      "metadata": {
        "id": "NikYkWfUCxcG",
        "colab_type": "code",
        "colab": {}
      },
      "source": [
        "model.predict(x_test_pad)[1]"
      ],
      "execution_count": 0,
      "outputs": []
    },
    {
      "cell_type": "code",
      "metadata": {
        "id": "f_NpcZsDIKCI",
        "colab_type": "code",
        "colab": {}
      },
      "source": [
        "x_test_pad[1800]"
      ],
      "execution_count": 0,
      "outputs": []
    },
    {
      "cell_type": "code",
      "metadata": {
        "id": "owq8NPkUDD0l",
        "colab_type": "code",
        "colab": {}
      },
      "source": [
        "ind = np.unravel_index(np.argmax(model.predict(x_test_pad)[1], axis=None), model.predict(x_test_pad)[1].shape)"
      ],
      "execution_count": 0,
      "outputs": []
    },
    {
      "cell_type": "code",
      "metadata": {
        "id": "SbkoHf8sInzN",
        "colab_type": "code",
        "colab": {}
      },
      "source": [
        "ind"
      ],
      "execution_count": 0,
      "outputs": []
    }
  ]
}
