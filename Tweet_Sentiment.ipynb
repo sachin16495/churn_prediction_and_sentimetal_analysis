{
  "nbformat": 4,
  "nbformat_minor": 0,
  "metadata": {
    "colab": {
      "name": "Tweet Sentiment.ipynb",
      "provenance": [],
      "collapsed_sections": [],
      "include_colab_link": true
    },
    "kernelspec": {
      "name": "python3",
      "display_name": "Python 3"
    },
    "accelerator": "GPU"
  },
  "cells": [
    {
      "cell_type": "markdown",
      "metadata": {
        "id": "view-in-github",
        "colab_type": "text"
      },
      "source": [
        "<a href=\"https://colab.research.google.com/github/sachin16495/churn_prediction_and_sentimetal_analysis/blob/master/Tweet_Sentiment.ipynb\" target=\"_parent\"><img src=\"https://colab.research.google.com/assets/colab-badge.svg\" alt=\"Open In Colab\"/></a>"
      ]
    },
    {
      "cell_type": "markdown",
      "metadata": {
        "id": "p9U4C9jMTe9b",
        "colab_type": "text"
      },
      "source": [
        "In this imporvisation I used fast.ai library for the sentimental analysis Its deep lstm with Atttention layer based library which is used for text modeling.In this assignment with help of fasttext I initially did languge modelling and after use the same in the training data in the pickle format"
      ]
    },
    {
      "cell_type": "code",
      "metadata": {
        "id": "0uc60P3UXc98",
        "colab_type": "code",
        "colab": {}
      },
      "source": [
        "import pandas as pd"
      ],
      "execution_count": 0,
      "outputs": []
    },
    {
      "cell_type": "code",
      "metadata": {
        "id": "OpzIPc6YXeRr",
        "colab_type": "code",
        "colab": {}
      },
      "source": [
        "df = pd.read_csv('sentiment.tsv',delimiter='\\t',encoding='utf-8',names=[\"Sentiment\", \"Tweets\"])"
      ],
      "execution_count": 0,
      "outputs": []
    },
    {
      "cell_type": "code",
      "metadata": {
        "id": "mC6cXEWdYpxJ",
        "colab_type": "code",
        "outputId": "cb338c31-cdc7-46b0-e450-4b594e6394b3",
        "colab": {
          "base_uri": "https://localhost:8080/",
          "height": 204
        }
      },
      "source": [
        "df.head()"
      ],
      "execution_count": 206,
      "outputs": [
        {
          "output_type": "execute_result",
          "data": {
            "text/html": [
              "<div>\n",
              "<style scoped>\n",
              "    .dataframe tbody tr th:only-of-type {\n",
              "        vertical-align: middle;\n",
              "    }\n",
              "\n",
              "    .dataframe tbody tr th {\n",
              "        vertical-align: top;\n",
              "    }\n",
              "\n",
              "    .dataframe thead th {\n",
              "        text-align: right;\n",
              "    }\n",
              "</style>\n",
              "<table border=\"1\" class=\"dataframe\">\n",
              "  <thead>\n",
              "    <tr style=\"text-align: right;\">\n",
              "      <th></th>\n",
              "      <th>Sentiment</th>\n",
              "      <th>Tweets</th>\n",
              "    </tr>\n",
              "  </thead>\n",
              "  <tbody>\n",
              "    <tr>\n",
              "      <th>0</th>\n",
              "      <td>neg</td>\n",
              "      <td>@jamielewislewis i cant believe it, it really ...</td>\n",
              "    </tr>\n",
              "    <tr>\n",
              "      <th>1</th>\n",
              "      <td>pos</td>\n",
              "      <td>having a vodka tonic and looking forward to go...</td>\n",
              "    </tr>\n",
              "    <tr>\n",
              "      <th>2</th>\n",
              "      <td>pos</td>\n",
              "      <td>@ddlovatofans1neg1 Could you follow me please....</td>\n",
              "    </tr>\n",
              "    <tr>\n",
              "      <th>3</th>\n",
              "      <td>pos</td>\n",
              "      <td>@jordanknight for once.................. PLEAS...</td>\n",
              "    </tr>\n",
              "    <tr>\n",
              "      <th>4</th>\n",
              "      <td>neg</td>\n",
              "      <td>Had a dream about a walk in fast food resturau...</td>\n",
              "    </tr>\n",
              "  </tbody>\n",
              "</table>\n",
              "</div>"
            ],
            "text/plain": [
              "  Sentiment                                             Tweets\n",
              "0       neg  @jamielewislewis i cant believe it, it really ...\n",
              "1       pos  having a vodka tonic and looking forward to go...\n",
              "2       pos  @ddlovatofans1neg1 Could you follow me please....\n",
              "3       pos  @jordanknight for once.................. PLEAS...\n",
              "4       neg  Had a dream about a walk in fast food resturau..."
            ]
          },
          "metadata": {
            "tags": []
          },
          "execution_count": 206
        }
      ]
    },
    {
      "cell_type": "code",
      "metadata": {
        "id": "4g69zS8_ZG8z",
        "colab_type": "code",
        "colab": {}
      },
      "source": [
        "classes={u'neg':0,u'pos':1}\n",
        "classesa=['pos','neg']\n",
        "\n",
        "#One Hot encoding of labels\n",
        "#labrl=[classes[leb] for leb in sentiment]\n",
        "\n",
        "#sentiment=sentiment_df[\"Sentiment\"]\n",
        "#sentiment_text=sentiment_df[\"Tweets\"]=[clean(txt) for txt in sentiment_df[\"Tweets\"]]\n",
        "df['Sentiment']=[classes[leb] for leb in df['Sentiment']]"
      ],
      "execution_count": 0,
      "outputs": []
    },
    {
      "cell_type": "code",
      "metadata": {
        "id": "3fC1XYvSFaVs",
        "colab_type": "code",
        "colab": {
          "base_uri": "https://localhost:8080/",
          "height": 282
        },
        "outputId": "2eacb503-2733-486d-e076-6e4565409857"
      },
      "source": [
        "df['Sentiment'].value_counts().plot(kind='bar')"
      ],
      "execution_count": 219,
      "outputs": [
        {
          "output_type": "execute_result",
          "data": {
            "text/plain": [
              "<matplotlib.axes._subplots.AxesSubplot at 0x7f7f02b71c88>"
            ]
          },
          "metadata": {
            "tags": []
          },
          "execution_count": 219
        },
        {
          "output_type": "display_data",
          "data": {
            "image/png": "[encoded data removed]",
            "text/plain": [
              "<Figure size 432x288 with 1 Axes>"
            ]
          },
          "metadata": {
            "tags": []
          }
        }
      ]
    },
    {
      "cell_type": "code",
      "metadata": {
        "id": "vxghhql6aKlN",
        "colab_type": "code",
        "outputId": "a83c34aa-bef4-4efb-cee8-ed7b29c97955",
        "colab": {
          "base_uri": "https://localhost:8080/",
          "height": 204
        }
      },
      "source": [
        "df.head()"
      ],
      "execution_count": 208,
      "outputs": [
        {
          "output_type": "execute_result",
          "data": {
            "text/html": [
              "<div>\n",
              "<style scoped>\n",
              "    .dataframe tbody tr th:only-of-type {\n",
              "        vertical-align: middle;\n",
              "    }\n",
              "\n",
              "    .dataframe tbody tr th {\n",
              "        vertical-align: top;\n",
              "    }\n",
              "\n",
              "    .dataframe thead th {\n",
              "        text-align: right;\n",
              "    }\n",
              "</style>\n",
              "<table border=\"1\" class=\"dataframe\">\n",
              "  <thead>\n",
              "    <tr style=\"text-align: right;\">\n",
              "      <th></th>\n",
              "      <th>Sentiment</th>\n",
              "      <th>Tweets</th>\n",
              "    </tr>\n",
              "  </thead>\n",
              "  <tbody>\n",
              "    <tr>\n",
              "      <th>0</th>\n",
              "      <td>0</td>\n",
              "      <td>@jamielewislewis i cant believe it, it really ...</td>\n",
              "    </tr>\n",
              "    <tr>\n",
              "      <th>1</th>\n",
              "      <td>1</td>\n",
              "      <td>having a vodka tonic and looking forward to go...</td>\n",
              "    </tr>\n",
              "    <tr>\n",
              "      <th>2</th>\n",
              "      <td>1</td>\n",
              "      <td>@ddlovatofans1neg1 Could you follow me please....</td>\n",
              "    </tr>\n",
              "    <tr>\n",
              "      <th>3</th>\n",
              "      <td>1</td>\n",
              "      <td>@jordanknight for once.................. PLEAS...</td>\n",
              "    </tr>\n",
              "    <tr>\n",
              "      <th>4</th>\n",
              "      <td>0</td>\n",
              "      <td>Had a dream about a walk in fast food resturau...</td>\n",
              "    </tr>\n",
              "  </tbody>\n",
              "</table>\n",
              "</div>"
            ],
            "text/plain": [
              "   Sentiment                                             Tweets\n",
              "0          0  @jamielewislewis i cant believe it, it really ...\n",
              "1          1  having a vodka tonic and looking forward to go...\n",
              "2          1  @ddlovatofans1neg1 Could you follow me please....\n",
              "3          1  @jordanknight for once.................. PLEAS...\n",
              "4          0  Had a dream about a walk in fast food resturau..."
            ]
          },
          "metadata": {
            "tags": []
          },
          "execution_count": 208
        }
      ]
    },
    {
      "cell_type": "code",
      "metadata": {
        "id": "aYE2g34kFmfM",
        "colab_type": "code",
        "colab": {
          "base_uri": "https://localhost:8080/",
          "height": 301
        },
        "outputId": "58db53c9-1877-4d93-b0dc-0848212361b6"
      },
      "source": [
        "df['tweet_length'] = df['Tweets'].apply(len)\n",
        "df.groupby(['tweet_length', 'Sentiment']).size().unstack().plot(kind='line', stacked=False)"
      ],
      "execution_count": 220,
      "outputs": [
        {
          "output_type": "execute_result",
          "data": {
            "text/plain": [
              "<matplotlib.axes._subplots.AxesSubplot at 0x7f7f02b7ca58>"
            ]
          },
          "metadata": {
            "tags": []
          },
          "execution_count": 220
        },
        {
          "output_type": "display_data",
          "data": {
            "image/png": "[encoded data removed]",
            "text/plain": [
              "<Figure size 432x288 with 1 Axes>"
            ]
          },
          "metadata": {
            "tags": []
          }
        }
      ]
    },
    {
      "cell_type": "code",
      "metadata": {
        "id": "S2UtsilkXEGt",
        "colab_type": "code",
        "colab": {}
      },
      "source": [
        "tweet_data = df.copy().sample(2000, random_state=42)"
      ],
      "execution_count": 0,
      "outputs": []
    },
    {
      "cell_type": "code",
      "metadata": {
        "id": "yPi0rNK9Y2av",
        "colab_type": "code",
        "colab": {}
      },
      "source": [
        "tweet_data=tweet_data[['Sentiment','Tweets']]"
      ],
      "execution_count": 0,
      "outputs": []
    },
    {
      "cell_type": "code",
      "metadata": {
        "id": "DO0GNMIXatKq",
        "colab_type": "code",
        "colab": {}
      },
      "source": [
        "tweet_data.dropna(inplace=True)"
      ],
      "execution_count": 0,
      "outputs": []
    },
    {
      "cell_type": "code",
      "metadata": {
        "id": "nZHwvaHYbCah",
        "colab_type": "code",
        "colab": {}
      },
      "source": [
        "from fastai.text import *"
      ],
      "execution_count": 0,
      "outputs": []
    },
    {
      "cell_type": "markdown",
      "metadata": {
        "id": "FcFnlY4hU5eF",
        "colab_type": "text"
      },
      "source": [
        "Here we have created databunch for our model"
      ]
    },
    {
      "cell_type": "code",
      "metadata": {
        "id": "xnAIilEBa1a2",
        "colab_type": "code",
        "colab": {}
      },
      "source": [
        "data_lm = (TextList.from_df(tweet_data, cols='Tweets').split_by_rand_pct(0.1).label_for_lm().databunch())"
      ],
      "execution_count": 0,
      "outputs": []
    },
    {
      "cell_type": "code",
      "metadata": {
        "id": "zy2-vwh0bK1-",
        "colab_type": "code",
        "outputId": "441440b6-4dba-49fe-df67-447d42aad36f",
        "colab": {
          "base_uri": "https://localhost:8080/",
          "height": 179
        }
      },
      "source": [
        "data_lm.show_batch(2)"
      ],
      "execution_count": 0,
      "outputs": [
        {
          "output_type": "display_data",
          "data": {
            "text/html": [
              "<table border=\"1\" class=\"dataframe\">\n",
              "  <thead>\n",
              "    <tr style=\"text-align: right;\">\n",
              "      <th>idx</th>\n",
              "      <th>text</th>\n",
              "    </tr>\n",
              "  </thead>\n",
              "  <tbody>\n",
              "    <tr>\n",
              "      <td>0</td>\n",
              "      <td>goes xxbos break my xxunk tweets xxbos xxunk good luck xxrep 5 x xxbos yes the sun has moved . off to xxunk in the sun , i love england when its xxunk and xxunk haha xxunk x xxbos never will the xxunk up of the iphone take so long xxbos xxmaj see yeah later . i have to go to a party . xxmaj xxunk xxunk for now .</td>\n",
              "    </tr>\n",
              "    <tr>\n",
              "      <td>1</td>\n",
              "      <td>my alarm xxunk , it said xxunk ! and it 's actually xxunk , so much for a lay in xxbos xxunk thanks ! xxbos @ work ! xxmaj watching true blood ! xxbos xxunk oh i m not xxunk ... but i ve moved into the xxunk for my xxunk . xxbos xxunk in about xxunk ... so wish i had someone to share em with xxbos i miss</td>\n",
              "    </tr>\n",
              "  </tbody>\n",
              "</table>"
            ],
            "text/plain": [
              "<IPython.core.display.HTML object>"
            ]
          },
          "metadata": {
            "tags": []
          }
        }
      ]
    },
    {
      "cell_type": "code",
      "metadata": {
        "id": "zlVDZggwbZp2",
        "colab_type": "code",
        "outputId": "454e2768-7fa0-4527-8f6e-4ac49215643a",
        "colab": {
          "base_uri": "https://localhost:8080/",
          "height": 71
        }
      },
      "source": [
        "data_lm.save('data_lm.pkl')"
      ],
      "execution_count": 214,
      "outputs": [
        {
          "output_type": "stream",
          "text": [
            "/usr/local/lib/python3.6/dist-packages/torch/serialization.py:292: UserWarning: Couldn't retrieve source code for container of type CrossEntropyLoss. It won't be checked for correctness upon loading.\n",
            "  \"type \" + obj.__name__ + \". It won't be checked \"\n"
          ],
          "name": "stderr"
        }
      ]
    },
    {
      "cell_type": "markdown",
      "metadata": {
        "id": "MiXjSfO2VDsD",
        "colab_type": "text"
      },
      "source": [
        "Here we set the leraner parmeter in our case it is Transformer based LSTM"
      ]
    },
    {
      "cell_type": "code",
      "metadata": {
        "id": "RNvhLzXtbet0",
        "colab_type": "code",
        "outputId": "d3ea29d3-40c1-41ec-85a5-f39d0acf1746",
        "colab": {
          "base_uri": "https://localhost:8080/",
          "height": 34
        }
      },
      "source": [
        "learn = language_model_learner(data_lm, AWD_LSTM, drop_mult=0.5)\n",
        "\n",
        "learn.lr_find()"
      ],
      "execution_count": 215,
      "outputs": [
        {
          "output_type": "display_data",
          "data": {
            "text/html": [
              ""
            ],
            "text/plain": [
              "<IPython.core.display.HTML object>"
            ]
          },
          "metadata": {
            "tags": []
          }
        },
        {
          "output_type": "stream",
          "text": [
            "LR Finder is complete, type {learner_name}.recorder.plot() to see the graph.\n"
          ],
          "name": "stdout"
        }
      ]
    },
    {
      "cell_type": "code",
      "metadata": {
        "id": "Bm0bqLIxcEtH",
        "colab_type": "code",
        "outputId": "e2fc4b83-abfe-4d50-ab72-fe713f678006",
        "colab": {
          "base_uri": "https://localhost:8080/",
          "height": 283
        }
      },
      "source": [
        "learn.recorder.plot()\n"
      ],
      "execution_count": 216,
      "outputs": [
        {
          "output_type": "display_data",
          "data": {
            "image/png": "[encoded data removed]",
            "text/plain": [
              "<Figure size 432x288 with 1 Axes>"
            ]
          },
          "metadata": {
            "tags": []
          }
        }
      ]
    },
    {
      "cell_type": "code",
      "metadata": {
        "id": "gXtTN0H7cKQw",
        "colab_type": "code",
        "outputId": "0af420e6-dbe9-4fdb-a1b7-2a2b31da7aeb",
        "colab": {
          "base_uri": "https://localhost:8080/",
          "height": 80
        }
      },
      "source": [
        "learn.fit_one_cycle(1, 3e-02, moms=(0.8, 0.7))\n"
      ],
      "execution_count": 217,
      "outputs": [
        {
          "output_type": "display_data",
          "data": {
            "text/html": [
              "<table border=\"1\" class=\"dataframe\">\n",
              "  <thead>\n",
              "    <tr style=\"text-align: left;\">\n",
              "      <th>epoch</th>\n",
              "      <th>train_loss</th>\n",
              "      <th>valid_loss</th>\n",
              "      <th>accuracy</th>\n",
              "      <th>time</th>\n",
              "    </tr>\n",
              "  </thead>\n",
              "  <tbody>\n",
              "    <tr>\n",
              "      <td>0</td>\n",
              "      <td>4.793490</td>\n",
              "      <td>4.058290</td>\n",
              "      <td>0.227679</td>\n",
              "      <td>00:02</td>\n",
              "    </tr>\n",
              "  </tbody>\n",
              "</table>"
            ],
            "text/plain": [
              "<IPython.core.display.HTML object>"
            ]
          },
          "metadata": {
            "tags": []
          }
        }
      ]
    },
    {
      "cell_type": "code",
      "metadata": {
        "id": "-uPreVZLbhum",
        "colab_type": "code",
        "outputId": "7fea4523-860a-4920-ddb4-d9dd3f0ad724",
        "colab": {
          "base_uri": "https://localhost:8080/",
          "height": 300
        }
      },
      "source": [
        "learn.unfreeze()\n",
        "learn.lr_find()\n",
        "learn.recorder.plot(skip_end=15)"
      ],
      "execution_count": 218,
      "outputs": [
        {
          "output_type": "display_data",
          "data": {
            "text/html": [
              ""
            ],
            "text/plain": [
              "<IPython.core.display.HTML object>"
            ]
          },
          "metadata": {
            "tags": []
          }
        },
        {
          "output_type": "stream",
          "text": [
            "LR Finder is complete, type {learner_name}.recorder.plot() to see the graph.\n"
          ],
          "name": "stdout"
        },
        {
          "output_type": "display_data",
          "data": {
            "image/png": "[encoded data removed]",
            "text/plain": [
              "<Figure size 432x288 with 1 Axes>"
            ]
          },
          "metadata": {
            "tags": []
          }
        }
      ]
    },
    {
      "cell_type": "code",
      "metadata": {
        "id": "U8-Q5_2LcQF9",
        "colab_type": "code",
        "outputId": "4b9be57d-200b-4e2e-ec27-2c4617147e87",
        "colab": {
          "base_uri": "https://localhost:8080/",
          "height": 359
        }
      },
      "source": [
        "learn.fit_one_cycle(10, 3e-04, moms=(0.8, 0.7))"
      ],
      "execution_count": 221,
      "outputs": [
        {
          "output_type": "display_data",
          "data": {
            "text/html": [
              "<table border=\"1\" class=\"dataframe\">\n",
              "  <thead>\n",
              "    <tr style=\"text-align: left;\">\n",
              "      <th>epoch</th>\n",
              "      <th>train_loss</th>\n",
              "      <th>valid_loss</th>\n",
              "      <th>accuracy</th>\n",
              "      <th>time</th>\n",
              "    </tr>\n",
              "  </thead>\n",
              "  <tbody>\n",
              "    <tr>\n",
              "      <td>0</td>\n",
              "      <td>4.174642</td>\n",
              "      <td>3.963422</td>\n",
              "      <td>0.247098</td>\n",
              "      <td>00:03</td>\n",
              "    </tr>\n",
              "    <tr>\n",
              "      <td>1</td>\n",
              "      <td>4.094451</td>\n",
              "      <td>3.842378</td>\n",
              "      <td>0.264732</td>\n",
              "      <td>00:03</td>\n",
              "    </tr>\n",
              "    <tr>\n",
              "      <td>2</td>\n",
              "      <td>4.027578</td>\n",
              "      <td>3.759416</td>\n",
              "      <td>0.273884</td>\n",
              "      <td>00:03</td>\n",
              "    </tr>\n",
              "    <tr>\n",
              "      <td>3</td>\n",
              "      <td>3.958587</td>\n",
              "      <td>3.722546</td>\n",
              "      <td>0.275446</td>\n",
              "      <td>00:03</td>\n",
              "    </tr>\n",
              "    <tr>\n",
              "      <td>4</td>\n",
              "      <td>3.894624</td>\n",
              "      <td>3.701369</td>\n",
              "      <td>0.279241</td>\n",
              "      <td>00:03</td>\n",
              "    </tr>\n",
              "    <tr>\n",
              "      <td>5</td>\n",
              "      <td>3.843980</td>\n",
              "      <td>3.701565</td>\n",
              "      <td>0.272098</td>\n",
              "      <td>00:03</td>\n",
              "    </tr>\n",
              "    <tr>\n",
              "      <td>6</td>\n",
              "      <td>3.793103</td>\n",
              "      <td>3.674749</td>\n",
              "      <td>0.284152</td>\n",
              "      <td>00:03</td>\n",
              "    </tr>\n",
              "    <tr>\n",
              "      <td>7</td>\n",
              "      <td>3.748014</td>\n",
              "      <td>3.677370</td>\n",
              "      <td>0.279241</td>\n",
              "      <td>00:03</td>\n",
              "    </tr>\n",
              "    <tr>\n",
              "      <td>8</td>\n",
              "      <td>3.714307</td>\n",
              "      <td>3.672251</td>\n",
              "      <td>0.280357</td>\n",
              "      <td>00:03</td>\n",
              "    </tr>\n",
              "    <tr>\n",
              "      <td>9</td>\n",
              "      <td>3.684848</td>\n",
              "      <td>3.670398</td>\n",
              "      <td>0.282589</td>\n",
              "      <td>00:03</td>\n",
              "    </tr>\n",
              "  </tbody>\n",
              "</table>"
            ],
            "text/plain": [
              "<IPython.core.display.HTML object>"
            ]
          },
          "metadata": {
            "tags": []
          }
        }
      ]
    },
    {
      "cell_type": "code",
      "metadata": {
        "id": "0sD8xwT6cyji",
        "colab_type": "code",
        "colab": {}
      },
      "source": [
        "learn.save_encoder('fine_tuned_enc')"
      ],
      "execution_count": 0,
      "outputs": []
    },
    {
      "cell_type": "code",
      "metadata": {
        "id": "20Ji9fB_iOqK",
        "colab_type": "code",
        "colab": {}
      },
      "source": [
        "mean_fpr = np.linspace(0,1,100)\n",
        "n_split=10\n",
        "cvscores = []\n"
      ],
      "execution_count": 0,
      "outputs": []
    },
    {
      "cell_type": "code",
      "metadata": {
        "id": "t1ewJ2Xsi9q4",
        "colab_type": "code",
        "colab": {}
      },
      "source": [
        "from sklearn.model_selection import KFold"
      ],
      "execution_count": 0,
      "outputs": []
    },
    {
      "cell_type": "code",
      "metadata": {
        "id": "tVvPdlhyi0_b",
        "colab_type": "code",
        "colab": {}
      },
      "source": [
        "kf = KFold(n_splits = n_split, shuffle = True, random_state = 2)\n"
      ],
      "execution_count": 0,
      "outputs": []
    },
    {
      "cell_type": "code",
      "metadata": {
        "id": "SRsyhG-kslhA",
        "colab_type": "code",
        "colab": {}
      },
      "source": [
        "result1=next(kf.split(tweet_data))"
      ],
      "execution_count": 0,
      "outputs": []
    },
    {
      "cell_type": "code",
      "metadata": {
        "id": "0dMhmKuK2v0v",
        "colab_type": "code",
        "outputId": "8ea3c924-96ca-4cd0-cf0e-043763d4a0bf",
        "colab": {
          "base_uri": "https://localhost:8080/",
          "height": 51
        }
      },
      "source": [
        "result1"
      ],
      "execution_count": 0,
      "outputs": [
        {
          "output_type": "execute_result",
          "data": {
            "text/plain": [
              "(array([   0,    1,    2,    3, ..., 1996, 1997, 1998, 1999]),\n",
              " array([   4,   45,   52,   65, ..., 1940, 1945, 1977, 1980]))"
            ]
          },
          "metadata": {
            "tags": []
          },
          "execution_count": 164
        }
      ]
    },
    {
      "cell_type": "code",
      "metadata": {
        "id": "RkZ375uGxe7O",
        "colab_type": "code",
        "outputId": "b165b5c1-503b-47c9-af7f-e715500ecfab",
        "colab": {
          "base_uri": "https://localhost:8080/",
          "height": 34
        }
      },
      "source": [
        "len(list(tweet_data.index))"
      ],
      "execution_count": 228,
      "outputs": [
        {
          "output_type": "execute_result",
          "data": {
            "text/plain": [
              "2000"
            ]
          },
          "metadata": {
            "tags": []
          },
          "execution_count": 228
        }
      ]
    },
    {
      "cell_type": "code",
      "metadata": {
        "id": "bV5_UW2rxm7G",
        "colab_type": "code",
        "outputId": "bfdb4aaf-7cf4-4fe0-bdf3-623b631c70e3",
        "colab": {
          "base_uri": "https://localhost:8080/",
          "height": 34
        }
      },
      "source": [
        "len(list(result1[0]))"
      ],
      "execution_count": 0,
      "outputs": [
        {
          "output_type": "execute_result",
          "data": {
            "text/plain": [
              "1800"
            ]
          },
          "metadata": {
            "tags": []
          },
          "execution_count": 125
        }
      ]
    },
    {
      "cell_type": "code",
      "metadata": {
        "id": "L7C8cTgGua4I",
        "colab_type": "code",
        "outputId": "6d28f83a-a9c4-4b0d-b8a1-cc6cd77f0fc4",
        "colab": {
          "base_uri": "https://localhost:8080/",
          "height": 34
        }
      },
      "source": [
        "len(tweet_data[(tweet_data.index).isin(list(result1[0]))])"
      ],
      "execution_count": 0,
      "outputs": [
        {
          "output_type": "execute_result",
          "data": {
            "text/plain": [
              "1799"
            ]
          },
          "metadata": {
            "tags": []
          },
          "execution_count": 130
        }
      ]
    },
    {
      "cell_type": "code",
      "metadata": {
        "id": "i3ufLJ0qr2j3",
        "colab_type": "code",
        "colab": {}
      },
      "source": [
        "data_clas = (TextList.from_df((tweet_data[(tweet_data.index).isin(list(result1[0]))]) , cols='Tweets', vocab=data_lm.vocab)\n",
        "   .split_by_rand_pct(0.2)\n",
        "   .label_from_df('Sentiment')\n",
        "   .databunch())\n",
        "  "
      ],
      "execution_count": 0,
      "outputs": []
    },
    {
      "cell_type": "code",
      "metadata": {
        "id": "30tA5H3MAQkz",
        "colab_type": "code",
        "colab": {}
      },
      "source": [
        "from sklearn.metrics import roc_curve\n",
        "from sklearn.metrics import auc"
      ],
      "execution_count": 0,
      "outputs": []
    },
    {
      "cell_type": "code",
      "metadata": {
        "id": "AFpJk8xsCMHV",
        "colab_type": "code",
        "colab": {}
      },
      "source": [
        "from numpy import interp"
      ],
      "execution_count": 0,
      "outputs": []
    },
    {
      "cell_type": "code",
      "metadata": {
        "id": "AIHfDygGBytm",
        "colab_type": "code",
        "colab": {}
      },
      "source": [
        "tprs=[]\n",
        "aucs=[]\n",
        "i=0"
      ],
      "execution_count": 0,
      "outputs": []
    },
    {
      "cell_type": "code",
      "metadata": {
        "id": "lEgwir0WuKyo",
        "colab_type": "code",
        "outputId": "0b76aba6-e69d-41e3-c84d-d720dbee6bdf",
        "colab": {
          "base_uri": "https://localhost:8080/",
          "height": 51
        }
      },
      "source": [
        "next(kf.split(tweet_data))"
      ],
      "execution_count": 0,
      "outputs": [
        {
          "output_type": "execute_result",
          "data": {
            "text/plain": [
              "(array([   0,    1,    2,    3, ..., 1996, 1997, 1998, 1999]),\n",
              " array([   4,   45,   52,   65, ..., 1940, 1945, 1977, 1980]))"
            ]
          },
          "metadata": {
            "tags": []
          },
          "execution_count": 167
        }
      ]
    },
    {
      "cell_type": "markdown",
      "metadata": {
        "id": "I-HOMlr3VVlv",
        "colab_type": "text"
      },
      "source": [
        "Apply Kfold on the data and prepare variable for roc and auc curve"
      ]
    },
    {
      "cell_type": "code",
      "metadata": {
        "id": "QWJaOLwvhlSh",
        "colab_type": "code",
        "outputId": "830b97d0-2501-4cbc-903b-842e87de8f84",
        "colab": {
          "base_uri": "https://localhost:8080/",
          "height": 204
        }
      },
      "source": [
        "for result in next(kf.split(tweet_data)):\n",
        "  print(result)\n",
        "  print(\"----------\")\n",
        "  data_clas = (TextList.from_df((tweet_data[(tweet_data.index).isin(list(result))]), cols='Tweets', vocab=data_lm.vocab)\n",
        "   .split_by_rand_pct(0.2)\n",
        "   .label_from_df('Sentiment')\n",
        "   .databunch())\n",
        "  learn = text_classifier_learner(data_clas, AWD_LSTM, drop_mult=0.5)\n",
        "  learn.load_encoder('fine_tuned_enc')\n",
        "  learn.freeze_to(-3)\n",
        "  learn.fit_one_cycle(5, slice(5e-03/(2.6**4),5e-03), moms=(0.8,0.7))\n",
        "  res=tweet_data[~((tweet_data.index).isin(list(result)))][\"Tweets\"].apply(lambda row: int((learn.predict(row)[0])))\n",
        "  #print(res)\n",
        "  label=tweet_data[~((tweet_data.index).isin(list(result)))][\"Sentiment\"]\n",
        "  fpr, tpr, t = roc_curve(np.round(label),res)\n",
        "  tprs.append(interp(mean_fpr, fpr, tpr))\n",
        "  roc_auc = auc(fpr, tpr)\n",
        "  aucs.append(roc_auc)\n",
        "  i= i+1\n"
      ],
      "execution_count": 233,
      "outputs": [
        {
          "output_type": "display_data",
          "data": {
            "text/html": [
              "<table border=\"1\" class=\"dataframe\">\n",
              "  <thead>\n",
              "    <tr style=\"text-align: left;\">\n",
              "      <th>epoch</th>\n",
              "      <th>train_loss</th>\n",
              "      <th>valid_loss</th>\n",
              "      <th>accuracy</th>\n",
              "      <th>time</th>\n",
              "    </tr>\n",
              "  </thead>\n",
              "  <tbody>\n",
              "    <tr>\n",
              "      <td>0</td>\n",
              "      <td>0.742223</td>\n",
              "      <td>0.691921</td>\n",
              "      <td>0.575000</td>\n",
              "      <td>00:00</td>\n",
              "    </tr>\n",
              "    <tr>\n",
              "      <td>1</td>\n",
              "      <td>0.704296</td>\n",
              "      <td>0.691930</td>\n",
              "      <td>0.550000</td>\n",
              "      <td>00:00</td>\n",
              "    </tr>\n",
              "    <tr>\n",
              "      <td>2</td>\n",
              "      <td>0.674138</td>\n",
              "      <td>0.698534</td>\n",
              "      <td>0.500000</td>\n",
              "      <td>00:00</td>\n",
              "    </tr>\n",
              "    <tr>\n",
              "      <td>3</td>\n",
              "      <td>0.628400</td>\n",
              "      <td>0.702621</td>\n",
              "      <td>0.450000</td>\n",
              "      <td>00:00</td>\n",
              "    </tr>\n",
              "    <tr>\n",
              "      <td>4</td>\n",
              "      <td>0.581039</td>\n",
              "      <td>0.706917</td>\n",
              "      <td>0.500000</td>\n",
              "      <td>00:00</td>\n",
              "    </tr>\n",
              "  </tbody>\n",
              "</table>"
            ],
            "text/plain": [
              "<IPython.core.display.HTML object>"
            ]
          },
          "metadata": {
            "tags": []
          }
        }
      ]
    },
    {
      "cell_type": "code",
      "metadata": {
        "id": "hvXhEq-mDq1I",
        "colab_type": "code",
        "outputId": "1a6d9370-b0a5-4c08-8aff-3fa09292b074",
        "colab": {
          "base_uri": "https://localhost:8080/",
          "height": 295
        }
      },
      "source": [
        "plt.plot([0,1],[0,1],linestyle = '--',lw = 2,color = 'black')\n",
        "mean_tpr = np.mean(tprs, axis=0)\n",
        "mean_auc = auc(mean_fpr, mean_tpr)\n",
        "plt.plot(mean_fpr, mean_tpr, color='blue',\n",
        "         label=r'Mean-ROC (AUC = %0.2f )' % (mean_auc),lw=2, alpha=1)\n",
        "\n",
        "plt.xlabel('FPR')\n",
        "plt.ylabel('TPR')\n",
        "plt.title('ROC')\n",
        "plt.legend(loc=\"lower right\")\n",
        "\n",
        "plt.show()\n",
        "#print(scores)"
      ],
      "execution_count": 247,
      "outputs": [
        {
          "output_type": "display_data",
          "data": {
            "image/png": "[encoded data removed]",
            "text/plain": [
              "<Figure size 432x288 with 1 Axes>"
            ]
          },
          "metadata": {
            "tags": []
          }
        }
      ]
    }
  ]
}